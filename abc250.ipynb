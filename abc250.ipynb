{
 "cells": [
  {
   "cell_type": "markdown",
   "id": "68de375c",
   "metadata": {},
   "source": [
    "<h1>AtCoder Beginner Contest 250</h1>\n",
    "<a>https://atcoder.jp/contests/agc057</a>"
   ]
  },
  {
   "cell_type": "markdown",
   "id": "e9b44104",
   "metadata": {},
   "source": [
    "<h2>A - Adjacent Squares</h2>\n",
    "縦 H 行、横 W 列のマス目があり、このうち上から i 個目、左から j 個目のマスを (i,j) と呼びます。\n",
    "このとき、マス (R,C) に辺で隣接するマスの個数を求めてください。\n",
    "\n",
    "ただし、ある 2 つのマス (a,b),(c,d) が辺で隣接するとは、 ∣a−c∣+∣b−d∣=1 (∣x∣ を x の絶対値とする) であることを言います。"
   ]
  },
  {
   "cell_type": "code",
   "execution_count": null,
   "id": "9c79923d",
   "metadata": {},
   "outputs": [],
   "source": [
    "H,W=input().split()\n",
    "R,C=input().split()\n",
    "num=4\n",
    "if H==\"1\":\n",
    "    num=num-2\n",
    "elif H==\"2\":\n",
    "    num=num-1\n",
    "else:\n",
    "    if R==\"1\" or R==H:\n",
    "        num=num-1\n",
    "    \n",
    "if W==\"1\":\n",
    "    num=num-2\n",
    "elif W==\"2\":\n",
    "    num=num-1\n",
    "else:\n",
    "    if C==\"1\" or C==W:\n",
    "        num=num-1\n",
    "print(num)"
   ]
  },
  {
   "cell_type": "markdown",
   "id": "b2cf3782",
   "metadata": {},
   "source": [
    "<h2>B - Enlarged Checker Board</h2>\n",
    "縦 A 行、横 B 列のマスからなるタイルを縦 N 行、横 N 列に並べてできた、縦 (A×N) 行、横 (B×N) 列のマス目 X があります。\n",
    "1≤i,j≤N について、上から i 行目、左から j 列目のタイルをタイル (i,j) とします。\n",
    "\n",
    "X の各マスは以下のように塗られています。\n",
    "\n",
    "各タイルは白いタイルまたは黒いタイルである。\n",
    "白いタイルのすべてのマスは白で塗られ、黒いタイルのすべてのマスは黒で塗られている。\n",
    "タイル (1,1) は白いタイルである。\n",
    "辺で隣接する 2 つのタイルは異なる色のタイルである。ただし、タイル (a,b) とタイル (c,d) が辺で隣接するとは、∣a−c∣+∣b−d∣=1 ( ∣x∣ を x の絶対値とする)であることを言う。\n",
    "マス目 X を出力の形式に従って出力してください。"
   ]
  },
  {
   "cell_type": "code",
   "execution_count": 20,
   "id": "6282d820",
   "metadata": {},
   "outputs": [
    {
     "name": "stdout",
     "output_type": "stream",
     "text": [
      "5 1 5\n",
      ".....#####.....#####.....\n",
      "#####.....#####.....#####\n",
      ".....#####.....#####.....\n",
      "#####.....#####.....#####\n",
      ".....#####.....#####.....\n"
     ]
    }
   ],
   "source": [
    "N,A,B=input().split()\n",
    "N=int(N)\n",
    "A=int(A)\n",
    "B=int(B)\n",
    "str=\"\"\n",
    "for i in range(N*A):\n",
    "    for j in range(N*B):\n",
    "        if ((j//B)%2==0) and ((i//A)%2==0) :\n",
    "            str+=\".\"\n",
    "        elif ((j//B)%2==0) and ((i//A)%2==1):\n",
    "            str+=\"#\"\n",
    "        elif ((j//B)%2==1)and((i//A)%2==1):\n",
    "            str+=\".\"\n",
    "        elif ((j//B)%2==1)and((i//A)%2==0):\n",
    "            str+=\"#\"\n",
    "    print(str)\n",
    "    str=\"\"\n",
    "\n"
   ]
  },
  {
   "cell_type": "markdown",
   "id": "a08a8305",
   "metadata": {},
   "source": [
    "<h2>C - Adjacent Swaps</h2>\n",
    "N 個のボールが左右一列に並んでいます。初め、左から i(1≤i≤N) 番目のボールには整数 i が書かれています。\n",
    "\n",
    "高橋君は Q 回の操作を行いました。 i(1≤i≤Q) 回目に行われた操作は次のようなものです。\n",
    "\n",
    "整数 x \n",
    "i\n",
    "​\n",
    "  が書かれているボールをその右隣のボールと入れ替える。ただし、整数 x \n",
    "i\n",
    "​\n",
    "  が書かれているボールが元々右端にあった場合、代わりに左隣のボールと入れ替える。\n",
    "操作後において左から i(1≤i≤N) 番目のボールに書かれている整数を a \n",
    "i\n",
    "​\n",
    "  とします。 a \n",
    "1\n",
    "​\n",
    " ,…,a \n",
    "N\n",
    "​\n",
    "  を求めてください。"
   ]
  },
  {
   "cell_type": "code",
   "execution_count": 8,
   "id": "e01a6f07",
   "metadata": {},
   "outputs": [
    {
     "name": "stdout",
     "output_type": "stream",
     "text": [
      "6 2\n",
      "1\n",
      "5\n",
      "2 1 3 4 6 5\n"
     ]
    }
   ],
   "source": [
    "N,Q=input().split()\n",
    "N=int(N)\n",
    "lst = list(range(1,N+1))\n",
    "for _ in range(int(Q)):\n",
    "    n=int(input())\n",
    "    g=lst.index(n)\n",
    "    if g == N-1:\n",
    "        lst[N-2],lst[N-1]=lst[N-1],lst[N-2]\n",
    "    else:\n",
    "        lst[g],lst[g+1]=lst[g+1],lst[g]\n",
    "print(*lst)"
   ]
  },
  {
   "cell_type": "code",
   "execution_count": null,
   "id": "787e3b38",
   "metadata": {},
   "outputs": [],
   "source": [
    "N,Q=input().split()\n",
    "N=int(N)\n",
    "lst = list(range(1,N+1))\n",
    "for _ in range(int(Q)):\n",
    "    n=int(input())\n",
    "    "
   ]
  },
  {
   "cell_type": "code",
   "execution_count": null,
   "id": "dac4dbf1",
   "metadata": {},
   "outputs": [],
   "source": [
    "#正解\n",
    "N,Q = map(int, input().split())\n",
    "index = [i for i in range(N+1)]\n",
    "bn=list(range(1,N+1))\n",
    "for _ in range(Q):\n",
    "    N = int(input())\n",
    "    "
   ]
  },
  {
   "cell_type": "code",
   "execution_count": 2,
   "id": "1ee1c3c3",
   "metadata": {},
   "outputs": [
    {
     "name": "stdout",
     "output_type": "stream",
     "text": [
      "[1, 2, 3, 4, 5, 6, 7, 8, 9, 10]\n",
      "[0, 1, 2, 3, 4, 5, 6, 7, 8, 9, 10]\n"
     ]
    }
   ],
   "source": [
    "N=10\n",
    "print(list(range(1,N+1)))\n",
    "print([i for i in range(N+1)])"
   ]
  },
  {
   "cell_type": "markdown",
   "id": "02b445ba",
   "metadata": {},
   "source": [
    "<h2>D - 250-like Number</h2>\n",
    "以下の条件を満たす整数 k を「 250 に似た数」と呼びます。\n",
    "\n",
    "k が素数 p<q を使って k=p×q \n",
    "3\n",
    "  と表される。\n",
    "N 以下の「 250 に似た数」は全部でいくつありますか？\n",
    "\n"
   ]
  },
  {
   "cell_type": "code",
   "execution_count": 32,
   "id": "ea2be6c4",
   "metadata": {},
   "outputs": [
    {
     "name": "stdout",
     "output_type": "stream",
     "text": [
      "250\n",
      "6\n"
     ]
    }
   ],
   "source": [
    "\n",
    "import math\n",
    "N=int(input())\n",
    "qb=int(math.pow(N,1/3))\n",
    "print(qb)\n",
    "import math\n",
    "\n",
    "# 素数判定関数\n",
    "def isPrime(num):\n",
    "    # 2未満の数字は素数ではない\n",
    "    if num < 2: return False\n",
    "    # 2は素数\n",
    "    elif num == 2: return True\n",
    "    # 偶数は素数ではない\n",
    "    elif num % 2 == 0: return False\n",
    "\n",
    "    # 3 ~ numまでループし、途中で割り切れる数があるか検索\n",
    "    # 途中で割り切れる場合は素数ではない\n",
    "    for i in range(3, math.floor(math.sqrt(num))+1, 2):\n",
    "        if num % i == 0:\n",
    "            return False\n",
    "\n",
    "    # 素数\n",
    "    return True\n",
    "\n",
    "# 素数判定\n",
    "def callIsPrime(input_num=1000):\n",
    "    numbers = []\n",
    "    # ループしながら素数を検索する\n",
    "    for i in range(1, input_num):\n",
    "        if isPrime(i):\n",
    "            numbers.append(i)\n",
    "\n",
    "    # 素数配列を返す\n",
    "    return numbers\n",
    "for i in range(callIsPrime(qb))"
   ]
  }
 ],
 "metadata": {
  "kernelspec": {
   "display_name": "Python 3 (ipykernel)",
   "language": "python",
   "name": "python3"
  },
  "language_info": {
   "codemirror_mode": {
    "name": "ipython",
    "version": 3
   },
   "file_extension": ".py",
   "mimetype": "text/x-python",
   "name": "python",
   "nbconvert_exporter": "python",
   "pygments_lexer": "ipython3",
   "version": "3.9.7"
  }
 },
 "nbformat": 4,
 "nbformat_minor": 5
}
