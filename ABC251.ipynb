{
 "cells": [
  {
   "cell_type": "markdown",
   "id": "2b886cf1",
   "metadata": {},
   "source": [
    "<h1>AtCoder Beginner Contest 251</h1>\n",
    "<a></a>"
   ]
  },
  {
   "cell_type": "markdown",
   "id": "162acde8",
   "metadata": {},
   "source": [
    "<h2>A - Six Characters</h2>\n",
    "問題文\n",
    "英小文字からなる文字列 S が与えられます。 S の長さは 1 以上かつ 3 以下です。\n",
    "\n",
    "S を繰り返して得られる文字列であって、長さが 6 のものを出力してください。\n",
    "\n",
    "本問題の制約下で、そのような文字列はただ一つ存在することが示せます。"
   ]
  },
  {
   "cell_type": "code",
   "execution_count": null,
   "id": "0ef5b176",
   "metadata": {},
   "outputs": [],
   "source": [
    "S=input()\n",
    "S=S+S+S+S+S+S\n",
    "print(S[0:6])"
   ]
  },
  {
   "cell_type": "markdown",
   "id": "b1b2eb86",
   "metadata": {},
   "source": [
    "<h2>B - At Most 3 (Judge ver.) </h2>\n",
    "問題文\n",
    "おもり 1, おもり 2, …, おもり N の N 個のおもりがあります。おもり i の重さは Aiです。\n",
    "以下の条件を満たす正整数 n を 良い整数 と呼びます。\n",
    "\n",
    "3 個以下 の異なるおもりを自由に選んで、選んだおもりの重さの和を n にすることができる。\n",
    "W 以下の正整数のうち、良い整数は何個ありますか？"
   ]
  },
  {
   "cell_type": "code",
   "execution_count": null,
   "id": "081cce52",
   "metadata": {},
   "outputs": [],
   "source": [
    "N,W=map(int,input().split())\n",
    "lst= list(map(int, input().split()))\n",
    "A=[0]*1000001\n",
    "for i in range(N):\n",
    "    if lst[i]<=W:\n",
    "        A[lst[i]]=1\n",
    "        for j in range(i,N):\n",
    "            if (lst[i]+lst[j]<=W)and(not(i ==j)):\n",
    "                A[lst[i]+lst[j]]=1\n",
    "                for k in range(j,N):\n",
    "                    if (lst[i]+lst[j]+lst[k]<=W)and(not(i ==j))and(not(i==k))and(not(j==k)):\n",
    "                        A[lst[i]+lst[j]+lst[k]]=1\n",
    "print(sum(A)) "
   ]
  },
  {
   "cell_type": "markdown",
   "id": "a1de1e42",
   "metadata": {},
   "source": [
    "<h2>C - Poem Online Judge</h2>\n",
    "問題文\n",
    "ポエムオンラインジャッジ (Poem Online Judge, 以下 POJ と表記) は提出された文字列に得点をつけるオンラインジャッジです。\n",
    "POJ に N 回の提出がありました。早い方から i 番目の提出では文字列 S \n",
    "i\n",
    "​\n",
    "  が提出されて、得点は T \n",
    "i\n",
    "​\n",
    "  でした。(同じ文字列が複数回提出される場合もあります)\n",
    "ただし、POJ では 同じ文字列を提出しても得点が等しいとは限らない のに注意してください。\n",
    "\n",
    "N 回の提出のうち、その提出よりも早い提出であって文字列が一致するものが存在しないような提出を オリジナル であると呼びます。\n",
    "また、オリジナルな提出の中で最も得点が高いものを 最優秀賞 と呼びます。ただし、そのような提出が複数ある場合は、最も提出が早いものを最優秀賞とします。\n",
    "\n",
    "最優秀賞は早い方から何番目の提出ですか？"
   ]
  },
  {
   "cell_type": "code",
   "execution_count": null,
   "id": "7b7eae9d",
   "metadata": {},
   "outputs": [],
   "source": [
    "#自分のやつ\n",
    "N = int(input())\n",
    "S=[i for i in range(N+1)]\n",
    "T=[i for i in range(N+1)]\n",
    "for i in range(N):\n",
    "    S[i],T[i]=input().split()\n",
    "    T[i]=int(T[i])\n",
    "maxt=0\n",
    "maxi=0\n",
    "ori=[]\n",
    "for i in range(N):\n",
    "    flag=0\n",
    "    for j in ori:\n",
    "        if S[i]==S[ori[j]]:\n",
    "            flag=1\n",
    "            break\n",
    "    if(flag==0):\n",
    "        ori.append(i)\n",
    "        if maxt<T[i]:\n",
    "            maxt=T[i]\n",
    "            maxi=i\n",
    "print(maxi+1)"
   ]
  },
  {
   "cell_type": "code",
   "execution_count": 2,
   "id": "eb44fc1c",
   "metadata": {},
   "outputs": [
    {
     "name": "stdout",
     "output_type": "stream",
     "text": [
      "3\n",
      "aaa 10\n",
      "bbb 10\n",
      "aaa 30\n",
      "1\n"
     ]
    }
   ],
   "source": [
    "N = int(input())\n",
    "s = set()\n",
    "M = 0\n",
    "ans = -1\n",
    "\n",
    "for i in range(N):\n",
    "    S, T = input().split()\n",
    "    T = int(T)\n",
    "    \n",
    "    if S not in s:\n",
    "        if T>M:\n",
    "            M = T\n",
    "            ans = i+1\n",
    "    \n",
    "        s.add(S)\n",
    "\n",
    "print(ans)"
   ]
  }
 ],
 "metadata": {
  "kernelspec": {
   "display_name": "Python 3 (ipykernel)",
   "language": "python",
   "name": "python3"
  },
  "language_info": {
   "codemirror_mode": {
    "name": "ipython",
    "version": 3
   },
   "file_extension": ".py",
   "mimetype": "text/x-python",
   "name": "python",
   "nbconvert_exporter": "python",
   "pygments_lexer": "ipython3",
   "version": "3.9.7"
  }
 },
 "nbformat": 4,
 "nbformat_minor": 5
}
