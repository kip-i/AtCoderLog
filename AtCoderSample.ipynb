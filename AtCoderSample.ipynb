{
 "cells": [
  {
   "cell_type": "code",
   "execution_count": null,
   "id": "6f604d8a",
   "metadata": {},
   "outputs": [],
   "source": [
    "<h1></h1>\n",
    "<a></a>"
   ]
  },
  {
   "cell_type": "code",
   "execution_count": null,
   "id": "9850d028",
   "metadata": {},
   "outputs": [],
   "source": [
    "<h2></h2>\n"
   ]
  },
  {
   "cell_type": "code",
   "execution_count": null,
   "id": "555eb79a",
   "metadata": {},
   "outputs": [],
   "source": []
  },
  {
   "cell_type": "code",
   "execution_count": null,
   "id": "8ab87d6c",
   "metadata": {},
   "outputs": [],
   "source": [
    "<h2></h2>\n"
   ]
  },
  {
   "cell_type": "code",
   "execution_count": null,
   "id": "7eb3a073",
   "metadata": {},
   "outputs": [],
   "source": []
  },
  {
   "cell_type": "code",
   "execution_count": null,
   "id": "559b8168",
   "metadata": {},
   "outputs": [],
   "source": [
    "<h2></h2>\n"
   ]
  },
  {
   "cell_type": "code",
   "execution_count": null,
   "id": "d1feb18f",
   "metadata": {},
   "outputs": [],
   "source": []
  }
 ],
 "metadata": {
  "kernelspec": {
   "display_name": "Python 3 (ipykernel)",
   "language": "python",
   "name": "python3"
  },
  "language_info": {
   "codemirror_mode": {
    "name": "ipython",
    "version": 3
   },
   "file_extension": ".py",
   "mimetype": "text/x-python",
   "name": "python",
   "nbconvert_exporter": "python",
   "pygments_lexer": "ipython3",
   "version": "3.9.7"
  }
 },
 "nbformat": 4,
 "nbformat_minor": 5
}
