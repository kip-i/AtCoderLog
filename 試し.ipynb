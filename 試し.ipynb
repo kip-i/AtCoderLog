{
 "cells": [
  {
   "cell_type": "code",
   "execution_count": 6,
   "id": "691985ab",
   "metadata": {},
   "outputs": [
    {
     "name": "stdout",
     "output_type": "stream",
     "text": [
      "0.06331715800001803\n",
      "0.0009317709999550061\n",
      "0.015647544000103153\n",
      "499787023.3553 499787023.3553 499787023.3553\n"
     ]
    }
   ],
   "source": [
    "import time\n",
    "'''\n",
    "start=time.perf_counter()\n",
    "end=time.perf_counter()\n",
    "'''\n",
    "import copy\n",
    "import random\n",
    "import statistics\n",
    "import math\n",
    "# 0 ～ 10 までで5個\n",
    "l=[random.randint(0, 1000000000) for i in range(200000)] \n",
    "\n",
    "start=time.perf_counter()\n",
    "median = statistics.median(l)\n",
    "end=time.perf_counter()\n",
    "print(end-start)\n",
    "\n",
    "start=time.perf_counter()\n",
    "for i in l:\n",
    "    \n",
    "end=time.perf_counter()\n",
    "print(end-start)\n",
    "\n",
    "\n",
    "\n",
    "\n",
    "print(l1,l2,l3)"
   ]
  }
 ],
 "metadata": {
  "kernelspec": {
   "display_name": "Python 3 (ipykernel)",
   "language": "python",
   "name": "python3"
  },
  "language_info": {
   "codemirror_mode": {
    "name": "ipython",
    "version": 3
   },
   "file_extension": ".py",
   "mimetype": "text/x-python",
   "name": "python",
   "nbconvert_exporter": "python",
   "pygments_lexer": "ipython3",
   "version": "3.9.7"
  }
 },
 "nbformat": 4,
 "nbformat_minor": 5
}
